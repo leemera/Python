{
 "cells": [
  {
   "cell_type": "markdown",
   "metadata": {},
   "source": [
    "사용자로부터 3개의 숫자를 입력받아, 이를 튜플로 만든 후 최소값과 최대값을 출력하는 함수 min_max를 작성하세요."
   ]
  },
  {
   "cell_type": "markdown",
   "metadata": {},
   "source": [
    "def min_max():\n",
    "    \n",
    "    nums = tuple(map(int, input(\"세 개의 숫자를 입력하세요 (공백으로 구분): \").split()))\n",
    "\n",
    "    print(f\"입력된 숫자: {nums}\")\n",
    "    print(f\"최소값: {min(nums)}\")\n",
    "    print(f\"최대값: {max(nums)}\")\n",
    "\n",
    "\n",
    "min_max()\n"
   ]
  }
 ],
 "metadata": {
  "language_info": {
   "name": "python"
  }
 },
 "nbformat": 4,
 "nbformat_minor": 2
}
