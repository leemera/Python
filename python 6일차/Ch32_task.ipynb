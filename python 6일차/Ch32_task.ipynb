{
 "cells": [
  {
   "cell_type": "markdown",
   "metadata": {},
   "source": [
    "두 문자열을 받아서 긴 문자열을 반환하는 함수 longer_string을 작성하세요. 만약 두 문자열의 길이가 같다면, 첫 번째 문자열을 반환하세요."
   ]
  },
  {
   "cell_type": "markdown",
   "metadata": {},
   "source": [
    "def longer_string(s1, s2):\n",
    "    if len(s1) >= len(s2):\n",
    "        return s1\n",
    "    return s2\n",
    "\n",
    "print(longer_string(\"apple\", \"banana\"))\n",
    "print(longer_string(\"hello\", \"world\"))\n",
    "print(longer_string(\"python\", \"java\"))"
   ]
  }
 ],
 "metadata": {
  "language_info": {
   "name": "python"
  }
 },
 "nbformat": 4,
 "nbformat_minor": 2
}
