{
 "cells": [
  {
   "cell_type": "markdown",
   "metadata": {},
   "source": [
    "사용자 정의 예외 NegativeNumberError를 생성하고, 사용자로부터 숫자를 입력받아 음수일 경우 NegativeNumberError를 발생시키는 프로그램을 작성하세요. \n",
    "\n",
    "- 예외 처리 구문을 사용하여 음수 입력 시 \"양수를 입력해주세요.\"라는 메시지를 출력"
   ]
  },
  {
   "cell_type": "code",
   "execution_count": 15,
   "metadata": {},
   "outputs": [],
   "source": [
    "\n",
    "class NegativeNumberError:\n",
    "    \"\"\"음수 입력 시 예외\"\"\"\n",
    "\n",
    "    pass\n",
    "\n",
    "def get_positive_number():\n",
    "    try:\n",
    "        num = float(input(\"숫자를 입력하세요: \"))\n",
    "        if num < 0:\n",
    "            raise NegativeNumberError\n",
    "        print(f\"입역한 숫자: {num}\")\n",
    "    except NegativeNumberError:\n",
    "        print(\"양수을 입려해주세요.\")\n",
    "    except ValueError:\n",
    "        print(\"잘못된 입력입니더. 숫자를 입력해주세요.\")\n",
    "\n",
    "        get_positive_number()\n",
    "    "
   ]
  }
 ],
 "metadata": {
  "kernelspec": {
   "display_name": "Python 3",
   "language": "python",
   "name": "python3"
  },
  "language_info": {
   "codemirror_mode": {
    "name": "ipython",
    "version": 3
   },
   "file_extension": ".py",
   "mimetype": "text/x-python",
   "name": "python",
   "nbconvert_exporter": "python",
   "pygments_lexer": "ipython3",
   "version": "3.9.6"
  }
 },
 "nbformat": 4,
 "nbformat_minor": 2
}
